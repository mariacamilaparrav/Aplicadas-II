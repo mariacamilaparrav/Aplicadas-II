{
  "nbformat": 4,
  "nbformat_minor": 0,
  "metadata": {
    "colab": {
      "provenance": []
    },
    "kernelspec": {
      "name": "python3",
      "display_name": "Python 3"
    },
    "language_info": {
      "name": "python"
    }
  },
  "cells": [
    {
      "cell_type": "markdown",
      "source": [
        "Suma de Riman para X sin grado\n",
        "\n",
        "Ejemplo:\n",
        "\n",
        "$$\\int_0^{10}x\\,dx$$"
      ],
      "metadata": {
        "id": "g2T5oA-5zq77"
      }
    },
    {
      "cell_type": "code",
      "source": [
        "#Sumas de Riemann por izquierda\n",
        "n=10\n",
        "a=0\n",
        "b=10\n",
        "dx=(b-a)/n\n",
        "S=0\n",
        "\n",
        "def f(x):\n",
        "  return(x)\n",
        "\n",
        "for i in range(n):\n",
        "  xi=a+i*dx\n",
        "  S=S+f(xi)*dx\n",
        "\n",
        "S"
      ],
      "metadata": {
        "colab": {
          "base_uri": "https://localhost:8080/"
        },
        "id": "JVxFv0KAQgjz",
        "outputId": "25074412-64e3-44dd-b8d3-59439cdea61a"
      },
      "execution_count": null,
      "outputs": [
        {
          "output_type": "execute_result",
          "data": {
            "text/plain": [
              "45.0"
            ]
          },
          "metadata": {},
          "execution_count": 12
        }
      ]
    },
    {
      "cell_type": "markdown",
      "source": [
        "Con el mismo ejemplo haremos la suma Riemann por derecha"
      ],
      "metadata": {
        "id": "xvvboGUz0XJ5"
      }
    },
    {
      "cell_type": "code",
      "source": [
        "#Sumas de Riemann por derecha\n",
        "n=2\n",
        "a=0\n",
        "b=10\n",
        "dx=(b-a)/n\n",
        "S=0\n",
        "\n",
        "def f(x):\n",
        "  return(x)\n",
        "\n",
        "for i in range(n):\n",
        "  xi=a+(i+1)*dx\n",
        "  S=S+f(xi)*dx\n",
        "\n",
        "S"
      ],
      "metadata": {
        "colab": {
          "base_uri": "https://localhost:8080/"
        },
        "id": "pKL3tutVVi2a",
        "outputId": "a3467f34-c7df-4da4-f6a7-d6c398471a3a"
      },
      "execution_count": null,
      "outputs": [
        {
          "output_type": "execute_result",
          "data": {
            "text/plain": [
              "75.0"
            ]
          },
          "metadata": {},
          "execution_count": 11
        }
      ]
    },
    {
      "cell_type": "markdown",
      "source": [
        "Aproximar con Riemann de izquierda la siguiente integral con una **x elevada**\n",
        "\n",
        "$$\\int_0^{1}e^{-x^{2}}\\,dx$$"
      ],
      "metadata": {
        "id": "ySptCqDU0wxp"
      }
    },
    {
      "cell_type": "code",
      "source": [
        "#Sumas de Riemann por izquierda\n",
        "import numpy as np\n",
        "n=100\n",
        "a=0\n",
        "b=1\n",
        "dx=(b-a)/n\n",
        "S=0\n",
        "\n",
        "def f(x):\n",
        "  return(np.exp(-x**2))\n",
        "\n",
        "for i in range(n):\n",
        "  xi=a+i*dx\n",
        "  S=S+f(xi)*dx\n",
        "\n",
        "S"
      ],
      "metadata": {
        "colab": {
          "base_uri": "https://localhost:8080/"
        },
        "id": "nT8bi3KPZWA-",
        "outputId": "f7b16a9d-3997-4903-f2f0-6b927c2e935e"
      },
      "execution_count": null,
      "outputs": [
        {
          "output_type": "execute_result",
          "data": {
            "text/plain": [
              "np.float64(0.7499786042621128)"
            ]
          },
          "metadata": {},
          "execution_count": 14
        }
      ]
    },
    {
      "cell_type": "markdown",
      "source": [
        "Codigo para punto medio de Riemann"
      ],
      "metadata": {
        "id": "QJ8rvTIC1578"
      }
    },
    {
      "cell_type": "code",
      "source": [
        "def Pmedio(f, a, b, n):\n",
        "    h = float(b-a)/n\n",
        "    result = 0\n",
        "    for i in range(1,n+1):\n",
        "        result += f(a + (i - 0.5)*h)\n",
        "    result *= h\n",
        "    return result"
      ],
      "metadata": {
        "id": "zMmBrPHV1_gn"
      },
      "execution_count": 1,
      "outputs": []
    }
  ]
}