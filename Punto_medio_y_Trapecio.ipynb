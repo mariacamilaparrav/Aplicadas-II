{
  "nbformat": 4,
  "nbformat_minor": 0,
  "metadata": {
    "colab": {
      "provenance": [],
      "include_colab_link": true
    },
    "kernelspec": {
      "name": "python3",
      "display_name": "Python 3"
    },
    "language_info": {
      "name": "python"
    }
  },
  "cells": [
    {
      "cell_type": "markdown",
      "metadata": {
        "id": "view-in-github",
        "colab_type": "text"
      },
      "source": [
        "<a href=\"https://colab.research.google.com/github/mariacamilaparrav/Aplicadas-II/blob/main/Punto_medio_y_Trapecio.ipynb\" target=\"_parent\"><img src=\"https://colab.research.google.com/assets/colab-badge.svg\" alt=\"Open In Colab\"/></a>"
      ]
    },
    {
      "cell_type": "code",
      "source": [
        "a=0\n",
        "b=4\n",
        "n=4\n",
        "dx=float((b-a)/n)\n",
        "S=0\n",
        "\n",
        "def f(x):\n",
        "  return(2*x)\n",
        "\n",
        "for i in range(n):\n",
        "  x=a+(i+1/2)*dx\n",
        "  S+=f(x)*dx\n",
        "\n",
        "S"
      ],
      "metadata": {
        "colab": {
          "base_uri": "https://localhost:8080/"
        },
        "id": "9Z-orkSa9uPW",
        "outputId": "fef6241f-8c44-4a45-f862-982888c1aebc"
      },
      "execution_count": null,
      "outputs": [
        {
          "output_type": "execute_result",
          "data": {
            "text/plain": [
              "16.0"
            ]
          },
          "metadata": {},
          "execution_count": 12
        }
      ]
    },
    {
      "cell_type": "code",
      "source": [
        "def PMedio(f,a,b,n):\n",
        "  dx=float((b-a)/n)\n",
        "  S=0\n",
        "  for i in range(n):\n",
        "    x=a+(i+1/2)*dx\n",
        "    S+=f(x)\n",
        "  return(S*dx)\n",
        "\n",
        "I=PMedio(f,0,4,4)\n",
        "I"
      ],
      "metadata": {
        "colab": {
          "base_uri": "https://localhost:8080/"
        },
        "id": "bhhRbhRDAeIH",
        "outputId": "2f824ebe-6923-4014-9b02-69918ef5b0f7"
      },
      "execution_count": null,
      "outputs": [
        {
          "output_type": "execute_result",
          "data": {
            "text/plain": [
              "16.0"
            ]
          },
          "metadata": {},
          "execution_count": 13
        }
      ]
    },
    {
      "cell_type": "markdown",
      "source": [],
      "metadata": {
        "id": "pqLBSD7DBmbO"
      }
    },
    {
      "cell_type": "code",
      "source": [
        "import numpy as np\n",
        "\n",
        "def f1(x):\n",
        "  return(3*x+8)\n",
        "\n",
        "def f2(x):\n",
        "  return(np.exp(x))\n",
        "\n",
        "def f3(x):\n",
        "  return(np.log(x))\n",
        "\n",
        "I = PMedio(lambda x: 3*x +8,1,3,100) + PMedio(f2,3,5,100) + PMedio(f3,5,10,100)\n",
        "I"
      ],
      "metadata": {
        "colab": {
          "base_uri": "https://localhost:8080/"
        },
        "id": "GLNUMpvMBnEe",
        "outputId": "08c5e4a0-904d-4165-dfc3-45943789f580"
      },
      "execution_count": null,
      "outputs": [
        {
          "output_type": "execute_result",
          "data": {
            "text/plain": [
              "np.float64(166.30415519496853)"
            ]
          },
          "metadata": {},
          "execution_count": 16
        }
      ]
    },
    {
      "cell_type": "code",
      "source": [
        "#R T\n",
        "\n",
        "def RTrapecio(f,a,b,n):\n",
        "  dx=float((b-a)/n)\n",
        "  S=f(a)+f(b)\n",
        "  for i in range(1,n):\n",
        "    x=a+i*dx\n",
        "    S+=2*f(x)\n",
        "  return(S*dx/2)\n",
        "\n",
        "RTrapecio(f,0,4,100)\n"
      ],
      "metadata": {
        "colab": {
          "base_uri": "https://localhost:8080/"
        },
        "id": "HxCMSqfbGvci",
        "outputId": "9f4fd1ba-c1fd-4162-b428-6d759a491a42"
      },
      "execution_count": null,
      "outputs": [
        {
          "output_type": "execute_result",
          "data": {
            "text/plain": [
              "16.0"
            ]
          },
          "metadata": {},
          "execution_count": 20
        }
      ]
    },
    {
      "cell_type": "code",
      "source": [
        "I = RTrapecio(f1,1,3,100) + RTrapecio(f2,3,5,100) + RTrapecio(f3,5,10,100)\n",
        "I"
      ],
      "metadata": {
        "colab": {
          "base_uri": "https://localhost:8080/"
        },
        "id": "XMPQgd9wI6Zk",
        "outputId": "56803e61-b904-4008-e079-6a7daf44b304"
      },
      "execution_count": null,
      "outputs": [
        {
          "output_type": "execute_result",
          "data": {
            "text/plain": [
              "np.float64(166.3105402728361)"
            ]
          },
          "metadata": {},
          "execution_count": 22
        }
      ]
    }
  ]
}